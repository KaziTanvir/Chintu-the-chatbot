{
  "nbformat": 4,
  "nbformat_minor": 0,
  "metadata": {
    "colab": {
      "name": "Chatbot",
      "provenance": [],
      "collapsed_sections": [],
      "mount_file_id": "14JjJLBpDSXjH29BHjeI4n8wXOlUMakgl",
      "authorship_tag": "ABX9TyNCnS9MxMsjPnlE2lqUXfXV",
      "include_colab_link": true
    },
    "kernelspec": {
      "name": "python3",
      "display_name": "Python 3"
    },
    "language_info": {
      "name": "python"
    },
    "accelerator": "GPU",
    "gpuClass": "standard"
  },
  "cells": [
    {
      "cell_type": "markdown",
      "metadata": {
        "id": "view-in-github",
        "colab_type": "text"
      },
      "source": [
        "<a href=\"https://colab.research.google.com/github/KaziTanvir/Chintu-the-chatbot/blob/main/Chatbot.ipynb\" target=\"_parent\"><img src=\"https://colab.research.google.com/assets/colab-badge.svg\" alt=\"Open In Colab\"/></a>"
      ]
    },
    {
      "cell_type": "markdown",
      "source": [
        "\n",
        "<h1>Chatbot</h1>\n",
        "<hr>\n",
        "<br>\n",
        "\n",
        "<p>\n",
        "At the most basic level, a chatbot is a computer program that simulates and processes human conversation (either written or spoken), allowing humans to interact with digital devices as if they were communicating with a real person. Chatbots can be as simple as rudimentary programs that answer a simple query with a single-line response, or as sophisticated as digital assistants that learn and evolve to deliver increasing levels of personalization as they gather and process information.\n",
        "</p>\n",
        "\n",
        "<h2>The value chatbots bring to businesses and customers</h2>\n",
        "<br>\n",
        "<p>\n",
        "Chatbots boost operational efficiency and bring cost savings to businesses while offering convenience and added services to internal employees and external customers. They allow companies to easily resolve many types of customer queries and issues while reducing the need for human interaction.\n",
        "</p>\n",
        "\n",
        "<h2>Common chatbot uses</h2>\n",
        "<br>\n",
        "<p>\n",
        "Chatbots are frequently used to improve the IT service management experience, which delves towards self-service and automating processes offered to internal staff. With an intelligent chatbot, common tasks such as password updates, system status, outage alerts, and knowledge management can be readily automated and made available 24/7, while broadening access to commonly used voice and text based conversational interfaces.\n",
        "</p>\n",
        "\n",
        "<b>Source : </b><a href=\"https://www.oracle.com/in/chatbots/what-is-a-chatbot/\" target=\"_blank\">https://www.oracle.com/in/chatbots/what-is-a-chatbot/</a>"
      ],
      "metadata": {
        "id": "yi86wOQzonod"
      }
    },
    {
      "cell_type": "markdown",
      "source": [
        "#Importing Libraries"
      ],
      "metadata": {
        "id": "xl7vit2lqeWP"
      }
    },
    {
      "cell_type": "code",
      "execution_count": null,
      "metadata": {
        "colab": {
          "base_uri": "https://localhost:8080/"
        },
        "id": "oxLIGHK1ohch",
        "outputId": "e4210d30-0888-4e0d-98cc-0bad7718e457"
      },
      "outputs": [
        {
          "output_type": "stream",
          "name": "stderr",
          "text": [
            "[nltk_data] Downloading package punkt to /root/nltk_data...\n",
            "[nltk_data]   Unzipping tokenizers/punkt.zip.\n"
          ]
        }
      ],
      "source": [
        "# Libraries needed for NLP\n",
        "import nltk\n",
        "nltk.download('punkt')\n",
        "from nltk.stem import PorterStemmer\n",
        "stemmer = PorterStemmer()\n",
        "\n",
        "# Libraries needed for Tensorflow processing\n",
        "import tensorflow as tf\n",
        "import numpy as np\n",
        "import random\n",
        "import json"
      ]
    },
    {
      "cell_type": "markdown",
      "source": [
        "#Importing dataset"
      ],
      "metadata": {
        "id": "duw3nITnq3GR"
      }
    },
    {
      "cell_type": "code",
      "source": [
        "#load the intents.json file from your local device\n",
        "from google.colab import files\n",
        "files.upload()"
      ],
      "metadata": {
        "colab": {
          "resources": {
            "http://localhost:8080/nbextensions/google.colab/files.js": {
              "data": "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",
              "ok": true,
              "headers": [
                [
                  "content-type",
                  "application/javascript"
                ]
              ],
              "status": 200,
              "status_text": ""
            }
          },
          "base_uri": "https://localhost:8080/",
          "height": 968
        },
        "id": "IcgQ_p5sq13s",
        "outputId": "eef82f88-8a07-4169-8684-d84ba0c3a3fb"
      },
      "execution_count": null,
      "outputs": [
        {
          "output_type": "display_data",
          "data": {
            "text/plain": [
              "<IPython.core.display.HTML object>"
            ],
            "text/html": [
              "\n",
              "     <input type=\"file\" id=\"files-9628aa73-f291-4ad1-9eb4-a488099ee076\" name=\"files[]\" multiple disabled\n",
              "        style=\"border:none\" />\n",
              "     <output id=\"result-9628aa73-f291-4ad1-9eb4-a488099ee076\">\n",
              "      Upload widget is only available when the cell has been executed in the\n",
              "      current browser session. Please rerun this cell to enable.\n",
              "      </output>\n",
              "      <script src=\"/nbextensions/google.colab/files.js\"></script> "
            ]
          },
          "metadata": {}
        },
        {
          "output_type": "stream",
          "name": "stdout",
          "text": [
            "Saving intents.json to intents.json\n"
          ]
        },
        {
          "output_type": "execute_result",
          "data": {
            "text/plain": [
              "{'intents.json': b'{\\r\\n        \"intents\": [\\r\\n                {\\r\\n                        \"tag\": \"greeting\",\\r\\n                        \"patterns\": [\\r\\n                                \"Hi\",\\r\\n                                \"How are you\",\\r\\n                                \"Is anyone there?\",\\r\\n                                \"Hello\",\\r\\n                                \"Good day\"\\r\\n                        ],\\r\\n                        \"responses\": [\\r\\n                                \"Hello, thanks for visiting\",\\r\\n                                \"Good to see you again\",\\r\\n                                \"Hi there, how can I help?\"\\r\\n                        ],\\r\\n                        \"context_set\": \"\"\\r\\n                },\\r\\n                {\\r\\n                        \"tag\": \"goodbye\",\\r\\n                        \"patterns\": [\\r\\n                                \"Bye\",\\r\\n                                \"See you later\",\\r\\n                                \"Goodbye\"\\r\\n                        ],\\r\\n                        \"responses\": [\\r\\n                                \"See you later, thanks for visiting\",\\r\\n                                \"Have a nice day\",\\r\\n                                \"Bye! Come back again soon.\"\\r\\n                        ]\\r\\n                },\\r\\n                {\\r\\n                        \"tag\": \"thanks\",\\r\\n                        \"patterns\": [\\r\\n                                \"Thanks\",\\r\\n                                \"Thank you\",\\r\\n                                \"That\\'s helpful\"\\r\\n                        ],\\r\\n                        \"responses\": [\\r\\n                                \"Happy to help!\",\\r\\n                                \"Any time!\",\\r\\n                                \"My pleasure\"\\r\\n                        ]\\r\\n                },\\r\\n                {\\r\\n                        \"tag\": \"chatbot\",\\r\\n                        \"patterns\": [\\r\\n                                \"Who built this chatbot?\",\\r\\n                                \"Tell me about Chatbot\",\\r\\n                                \"What is this chatbot name?\"\\r\\n                        ],\\r\\n                        \"responses\": [\\r\\n                                \"Hi, I am Chatbot by name is Chintu.\",\\r\\n                                \"Thanks for asking. I am designed by Kazi Tanvir.\",\\r\\n                                \"I am Chintu.\"\\r\\n                        ]\\r\\n                },\\r\\n                {\\r\\n                        \"tag\": \"location\",\\r\\n                        \"patterns\": [\\r\\n                                \"What is your location?\",\\r\\n                                \"Where are you located?\",\\r\\n                                \"What is your address?\"\\r\\n                        ],\\r\\n                        \"responses\": [\\r\\n                                \"We are from Bangladesh.\",\\r\\n                                \"You can visit Banglabesh to meet us\",\\r\\n                                \"Thanks for your Interest. I live in Bangladesh.\"\\r\\n                        ]\\r\\n                },\\r\\n                {\\r\\n                        \"tag\": \"connect\",\\r\\n                        \"patterns\": [\\r\\n                                \"Give me your social media accounts link\",\\r\\n                                \"Where can we connect\",\\r\\n                                \"How can i reach out to you?\",\\r\\n                                \"Is there any way we can connect\"\\r\\n                        ],\\r\\n                        \"responses\": [\\r\\n                                \"You can connect me on Linkedin or Github \\\\n Linkedin - https://www.linkedin.com/in/kazi-tanvir/ \\\\n Github - https://github.com/KaziTanvir\",\\r\\n                                \"You can visit https://kazitanvir.xyz\"\\r\\n                        ]\\r\\n                },\\r\\n                {\\r\\n                        \"tag\": \"movies\",\\r\\n                        \"patterns\": [\\r\\n                                \"Which is your favourite movie?\",\\r\\n                                \"Suggest me some movies\",\\r\\n                                \"Recommend movies\"\\r\\n                        ],\\r\\n                        \"responses\": [\\r\\n                                \"3 idiots\",\\r\\n                                \"Hera Pheri\",\\r\\n                                \"Lage Raho Munna Bhai\",\\r\\n                                \"OMG: Oh My God!\",\\r\\n                                \"PK\",\\r\\n                                \"Yeh Jawani hai Deewani\",\\r\\n                                \"Zindagi na Milegi Doobara\",\\r\\n                                \"Ludo\"\\r\\n                        ]\\r\\n                },\\r\\n                {\\r\\n                        \"tag\": \"about\",\\r\\n                        \"patterns\": [\\r\\n                                \"Who are you?\",\\r\\n                                \"Tell me about Yourself\",\\r\\n                                \"What is this?\"\\r\\n                        ],\\r\\n                        \"responses\": [\\r\\n                                \"Hi, I am Kazi Tanvir. Nice to meet you. I made this chatbot for fun and practice.\",\\r\\n                                \"Thanks for asking. I am Kazi Tanvir, coder by profession but ML enthusiast by passion.\"\\r\\n                        ]\\r\\n                }\\r\\n               \\r\\n        ]\\r\\n}'}"
            ]
          },
          "metadata": {},
          "execution_count": 3
        }
      ]
    },
    {
      "cell_type": "code",
      "source": [
        "# import our chat-bot intents file\n",
        "with open('intents.json') as json_data:\n",
        "    intents = json.load(json_data)"
      ],
      "metadata": {
        "id": "kWXcGHUTrOGT"
      },
      "execution_count": null,
      "outputs": []
    },
    {
      "cell_type": "code",
      "source": [
        "intents"
      ],
      "metadata": {
        "colab": {
          "base_uri": "https://localhost:8080/"
        },
        "id": "hDmXzPm_raCb",
        "outputId": "a0a6b99d-fd13-46d5-a8ab-6d0602cde60c"
      },
      "execution_count": null,
      "outputs": [
        {
          "output_type": "execute_result",
          "data": {
            "text/plain": [
              "{'intents': [{'tag': 'greeting',\n",
              "   'patterns': ['Hi', 'How are you', 'Is anyone there?', 'Hello', 'Good day'],\n",
              "   'responses': ['Hello, thanks for visiting',\n",
              "    'Good to see you again',\n",
              "    'Hi there, how can I help?'],\n",
              "   'context_set': ''},\n",
              "  {'tag': 'goodbye',\n",
              "   'patterns': ['Bye', 'See you later', 'Goodbye'],\n",
              "   'responses': ['See you later, thanks for visiting',\n",
              "    'Have a nice day',\n",
              "    'Bye! Come back again soon.']},\n",
              "  {'tag': 'thanks',\n",
              "   'patterns': ['Thanks', 'Thank you', \"That's helpful\"],\n",
              "   'responses': ['Happy to help!', 'Any time!', 'My pleasure']},\n",
              "  {'tag': 'chatbot',\n",
              "   'patterns': ['Who built this chatbot?',\n",
              "    'Tell me about Chatbot',\n",
              "    'What is this chatbot name?'],\n",
              "   'responses': ['Hi, I am Chatbot by name is Chintu.',\n",
              "    'Thanks for asking. I am designed by Kazi Tanvir.',\n",
              "    'I am Chintu.']},\n",
              "  {'tag': 'location',\n",
              "   'patterns': ['What is your location?',\n",
              "    'Where are you located?',\n",
              "    'What is your address?'],\n",
              "   'responses': ['We are from Bangladesh.',\n",
              "    'You can visit Banglabesh to meet us',\n",
              "    'Thanks for your Interest. I live in Bangladesh.']},\n",
              "  {'tag': 'connect',\n",
              "   'patterns': ['Give me your social media accounts link',\n",
              "    'Where can we connect',\n",
              "    'How can i reach out to you?',\n",
              "    'Is there any way we can connect'],\n",
              "   'responses': ['You can connect me on Linkedin or Github \\n Linkedin - https://www.linkedin.com/in/kazi-tanvir/ \\n Github - https://github.com/KaziTanvir',\n",
              "    'You can visit https://kazitanvir.xyz']},\n",
              "  {'tag': 'movies',\n",
              "   'patterns': ['Which is your favourite movie?',\n",
              "    'Suggest me some movies',\n",
              "    'Recommend movies'],\n",
              "   'responses': ['3 idiots',\n",
              "    'Hera Pheri',\n",
              "    'Lage Raho Munna Bhai',\n",
              "    'OMG: Oh My God!',\n",
              "    'PK',\n",
              "    'Yeh Jawani hai Deewani',\n",
              "    'Zindagi na Milegi Doobara',\n",
              "    'Ludo']},\n",
              "  {'tag': 'about',\n",
              "   'patterns': ['Who are you?', 'Tell me about Yourself', 'What is this?'],\n",
              "   'responses': ['Hi, I am Kazi Tanvir. Nice to meet you. I made this chatbot for fun and practice.',\n",
              "    'Thanks for asking. I am Kazi Tanvir, coder by profession but ML enthusiast by passion.']}]}"
            ]
          },
          "metadata": {},
          "execution_count": 5
        }
      ]
    },
    {
      "cell_type": "markdown",
      "source": [
        "#Data Preprocessing\n"
      ],
      "metadata": {
        "id": "KPxQE1LMT0hd"
      }
    },
    {
      "cell_type": "code",
      "source": [
        "words = []\n",
        "classes = []\n",
        "documents = []\n",
        "ignore = ['?']\n",
        "# loop through each sentence in the intent's patterns\n",
        "for intent in intents['intents']:\n",
        "    for pattern in intent['patterns']:\n",
        "        # tokenize each and every word in the sentence\n",
        "        w = nltk.word_tokenize(pattern)\n",
        "        # add word to the words list\n",
        "        words.extend(w)\n",
        "        # add word(s) to documents\n",
        "        documents.append((w, intent['tag']))\n",
        "        # add tags to our classes list\n",
        "        if intent['tag'] not in classes:\n",
        "            classes.append(intent['tag'])"
      ],
      "metadata": {
        "id": "vRzFPKDmra99"
      },
      "execution_count": null,
      "outputs": []
    },
    {
      "cell_type": "code",
      "source": [
        "# Perform stemming and lower each word as well as remove duplicates\n",
        "words = [stemmer.stem(w.lower()) for w in words if w not in ignore]\n",
        "words = sorted(list(set(words)))\n",
        "\n",
        "# remove duplicate classes\n",
        "classes = sorted(list(set(classes)))\n",
        "\n",
        "print (len(documents), \"documents\")\n",
        "print (len(classes), \"classes\", classes)\n",
        "print (len(words), \"unique stemmed words\", words)"
      ],
      "metadata": {
        "colab": {
          "base_uri": "https://localhost:8080/"
        },
        "id": "5Z4u4ODcTbAO",
        "outputId": "7f13d9dd-b865-4212-a21c-2f743ac7fef6"
      },
      "execution_count": null,
      "outputs": [
        {
          "output_type": "stream",
          "name": "stdout",
          "text": [
            "27 documents\n",
            "8 classes ['about', 'chatbot', 'connect', 'goodbye', 'greeting', 'location', 'movies', 'thanks']\n",
            "52 unique stemmed words [\"'s\", 'about', 'account', 'address', 'ani', 'anyon', 'are', 'built', 'bye', 'can', 'chatbot', 'connect', 'day', 'favourit', 'give', 'good', 'goodby', 'hello', 'help', 'hi', 'how', 'i', 'is', 'later', 'link', 'locat', 'me', 'media', 'movi', 'name', 'out', 'reach', 'recommend', 'see', 'social', 'some', 'suggest', 'tell', 'thank', 'that', 'there', 'thi', 'to', 'way', 'we', 'what', 'where', 'which', 'who', 'you', 'your', 'yourself']\n"
          ]
        }
      ]
    },
    {
      "cell_type": "markdown",
      "source": [
        "#Creating and Training Model"
      ],
      "metadata": {
        "id": "PrXMrssMVMjo"
      }
    },
    {
      "cell_type": "code",
      "source": [
        "# create training data\n",
        "training = []\n",
        "output = []\n",
        "# create an empty array for output\n",
        "output_empty = [0] * len(classes)\n",
        "\n",
        "# create training set, bag of words for each sentence\n",
        "for doc in documents:\n",
        "    # initialize bag of words\n",
        "    bag = []\n",
        "    # list of tokenized words for the pattern\n",
        "    pattern_words = doc[0]\n",
        "    # stemming each word\n",
        "    pattern_words = [stemmer.stem(word.lower()) for word in pattern_words]\n",
        "    # create bag of words array\n",
        "    for w in words:\n",
        "        bag.append(1) if w in pattern_words else bag.append(0)\n",
        "\n",
        "    # output is '1' for current tag and '0' for rest of other tags\n",
        "    output_row = list(output_empty)\n",
        "    output_row[classes.index(doc[1])] = 1\n",
        "\n",
        "    training.append([bag, output_row])\n",
        "\n",
        "# shuffling features and turning it into np.array\n",
        "random.shuffle(training)\n",
        "training = np.array(training)\n",
        "\n",
        "# creating training lists\n",
        "train_x = list(training[:,0])\n",
        "train_y = list(training[:,1])"
      ],
      "metadata": {
        "colab": {
          "base_uri": "https://localhost:8080/"
        },
        "id": "bcvxiRpmU5Vl",
        "outputId": "3f3d72dc-fde4-49e6-c22a-88348cae51d1"
      },
      "execution_count": null,
      "outputs": [
        {
          "output_type": "stream",
          "name": "stderr",
          "text": [
            "/usr/local/lib/python3.7/dist-packages/ipykernel_launcher.py:27: VisibleDeprecationWarning: Creating an ndarray from ragged nested sequences (which is a list-or-tuple of lists-or-tuples-or ndarrays with different lengths or shapes) is deprecated. If you meant to do this, you must specify 'dtype=object' when creating the ndarray.\n"
          ]
        }
      ]
    },
    {
      "cell_type": "code",
      "source": [
        "#creating the model\n",
        "\n",
        "model = tf.keras.Sequential()\n",
        "model.add(tf.keras.layers.Dense(10,input_shape=(len(train_x[0]),)))\n",
        "model.add(tf.keras.layers.Dense(10))\n",
        "model.add(tf.keras.layers.Dense(len(train_y[0]), activation='softmax'))\n",
        "model.compile(tf.keras.optimizers.Adam(), loss='categorical_crossentropy', metrics=['accuracy']) "
      ],
      "metadata": {
        "id": "vfzOUfd2V9NP"
      },
      "execution_count": null,
      "outputs": []
    },
    {
      "cell_type": "code",
      "source": [
        "model.summary()"
      ],
      "metadata": {
        "colab": {
          "base_uri": "https://localhost:8080/"
        },
        "id": "VDuMkloJWHwF",
        "outputId": "15de05ef-1af9-4887-fc75-d63b4e3affb5"
      },
      "execution_count": null,
      "outputs": [
        {
          "output_type": "stream",
          "name": "stdout",
          "text": [
            "Model: \"sequential\"\n",
            "_________________________________________________________________\n",
            " Layer (type)                Output Shape              Param #   \n",
            "=================================================================\n",
            " dense (Dense)               (None, 10)                530       \n",
            "                                                                 \n",
            " dense_1 (Dense)             (None, 10)                110       \n",
            "                                                                 \n",
            " dense_2 (Dense)             (None, 8)                 88        \n",
            "                                                                 \n",
            "=================================================================\n",
            "Total params: 728\n",
            "Trainable params: 728\n",
            "Non-trainable params: 0\n",
            "_________________________________________________________________\n"
          ]
        }
      ]
    },
    {
      "cell_type": "code",
      "source": [
        "model.fit(np.array(train_x), np.array(train_y), epochs=100, batch_size=16, verbose=2,validation_split=.25).history\n",
        "model.save(\"model.pkl\")"
      ],
      "metadata": {
        "colab": {
          "base_uri": "https://localhost:8080/"
        },
        "id": "US-t8j42WNHk",
        "outputId": "69bed366-3390-4f84-b762-72ffa9746634"
      },
      "execution_count": null,
      "outputs": [
        {
          "output_type": "stream",
          "name": "stdout",
          "text": [
            "Epoch 1/100\n",
            "2/2 - 4s - loss: 2.0633 - accuracy: 0.1500 - val_loss: 2.1629 - val_accuracy: 0.0000e+00 - 4s/epoch - 2s/step\n",
            "Epoch 2/100\n",
            "2/2 - 0s - loss: 2.0457 - accuracy: 0.1500 - val_loss: 2.1612 - val_accuracy: 0.0000e+00 - 46ms/epoch - 23ms/step\n",
            "Epoch 3/100\n",
            "2/2 - 0s - loss: 2.0315 - accuracy: 0.2500 - val_loss: 2.1601 - val_accuracy: 0.0000e+00 - 34ms/epoch - 17ms/step\n",
            "Epoch 4/100\n",
            "2/2 - 0s - loss: 2.0175 - accuracy: 0.2500 - val_loss: 2.1593 - val_accuracy: 0.0000e+00 - 52ms/epoch - 26ms/step\n",
            "Epoch 5/100\n",
            "2/2 - 0s - loss: 2.0046 - accuracy: 0.2500 - val_loss: 2.1583 - val_accuracy: 0.0000e+00 - 103ms/epoch - 52ms/step\n",
            "Epoch 6/100\n",
            "2/2 - 0s - loss: 1.9920 - accuracy: 0.2500 - val_loss: 2.1579 - val_accuracy: 0.0000e+00 - 46ms/epoch - 23ms/step\n",
            "Epoch 7/100\n",
            "2/2 - 0s - loss: 1.9797 - accuracy: 0.2500 - val_loss: 2.1572 - val_accuracy: 0.0000e+00 - 31ms/epoch - 16ms/step\n",
            "Epoch 8/100\n",
            "2/2 - 0s - loss: 1.9673 - accuracy: 0.2500 - val_loss: 2.1566 - val_accuracy: 0.0000e+00 - 51ms/epoch - 26ms/step\n",
            "Epoch 9/100\n",
            "2/2 - 0s - loss: 1.9552 - accuracy: 0.2500 - val_loss: 2.1562 - val_accuracy: 0.0000e+00 - 40ms/epoch - 20ms/step\n",
            "Epoch 10/100\n",
            "2/2 - 0s - loss: 1.9431 - accuracy: 0.2500 - val_loss: 2.1556 - val_accuracy: 0.0000e+00 - 35ms/epoch - 18ms/step\n",
            "Epoch 11/100\n",
            "2/2 - 0s - loss: 1.9319 - accuracy: 0.3000 - val_loss: 2.1554 - val_accuracy: 0.0000e+00 - 60ms/epoch - 30ms/step\n",
            "Epoch 12/100\n",
            "2/2 - 0s - loss: 1.9194 - accuracy: 0.3500 - val_loss: 2.1557 - val_accuracy: 0.0000e+00 - 45ms/epoch - 22ms/step\n",
            "Epoch 13/100\n",
            "2/2 - 0s - loss: 1.9083 - accuracy: 0.4000 - val_loss: 2.1562 - val_accuracy: 0.0000e+00 - 31ms/epoch - 16ms/step\n",
            "Epoch 14/100\n",
            "2/2 - 0s - loss: 1.8962 - accuracy: 0.4500 - val_loss: 2.1562 - val_accuracy: 0.0000e+00 - 51ms/epoch - 25ms/step\n",
            "Epoch 15/100\n",
            "2/2 - 0s - loss: 1.8843 - accuracy: 0.4500 - val_loss: 2.1558 - val_accuracy: 0.0000e+00 - 43ms/epoch - 21ms/step\n",
            "Epoch 16/100\n",
            "2/2 - 0s - loss: 1.8728 - accuracy: 0.4500 - val_loss: 2.1552 - val_accuracy: 0.0000e+00 - 85ms/epoch - 42ms/step\n",
            "Epoch 17/100\n",
            "2/2 - 0s - loss: 1.8607 - accuracy: 0.4500 - val_loss: 2.1547 - val_accuracy: 0.0000e+00 - 47ms/epoch - 24ms/step\n",
            "Epoch 18/100\n",
            "2/2 - 0s - loss: 1.8491 - accuracy: 0.4500 - val_loss: 2.1549 - val_accuracy: 0.0000e+00 - 55ms/epoch - 27ms/step\n",
            "Epoch 19/100\n",
            "2/2 - 0s - loss: 1.8374 - accuracy: 0.4500 - val_loss: 2.1548 - val_accuracy: 0.0000e+00 - 81ms/epoch - 41ms/step\n",
            "Epoch 20/100\n",
            "2/2 - 0s - loss: 1.8254 - accuracy: 0.4500 - val_loss: 2.1538 - val_accuracy: 0.0000e+00 - 46ms/epoch - 23ms/step\n",
            "Epoch 21/100\n",
            "2/2 - 0s - loss: 1.8133 - accuracy: 0.4500 - val_loss: 2.1530 - val_accuracy: 0.0000e+00 - 59ms/epoch - 29ms/step\n",
            "Epoch 22/100\n",
            "2/2 - 0s - loss: 1.8012 - accuracy: 0.4500 - val_loss: 2.1522 - val_accuracy: 0.0000e+00 - 50ms/epoch - 25ms/step\n",
            "Epoch 23/100\n",
            "2/2 - 0s - loss: 1.7899 - accuracy: 0.4500 - val_loss: 2.1512 - val_accuracy: 0.0000e+00 - 34ms/epoch - 17ms/step\n",
            "Epoch 24/100\n",
            "2/2 - 0s - loss: 1.7776 - accuracy: 0.5000 - val_loss: 2.1507 - val_accuracy: 0.0000e+00 - 62ms/epoch - 31ms/step\n",
            "Epoch 25/100\n",
            "2/2 - 0s - loss: 1.7655 - accuracy: 0.5000 - val_loss: 2.1504 - val_accuracy: 0.0000e+00 - 48ms/epoch - 24ms/step\n",
            "Epoch 26/100\n",
            "2/2 - 0s - loss: 1.7533 - accuracy: 0.5000 - val_loss: 2.1502 - val_accuracy: 0.0000e+00 - 47ms/epoch - 23ms/step\n",
            "Epoch 27/100\n",
            "2/2 - 0s - loss: 1.7413 - accuracy: 0.5000 - val_loss: 2.1499 - val_accuracy: 0.0000e+00 - 41ms/epoch - 21ms/step\n",
            "Epoch 28/100\n",
            "2/2 - 0s - loss: 1.7287 - accuracy: 0.5000 - val_loss: 2.1496 - val_accuracy: 0.0000e+00 - 55ms/epoch - 28ms/step\n",
            "Epoch 29/100\n",
            "2/2 - 0s - loss: 1.7164 - accuracy: 0.5000 - val_loss: 2.1500 - val_accuracy: 0.0000e+00 - 46ms/epoch - 23ms/step\n",
            "Epoch 30/100\n",
            "2/2 - 0s - loss: 1.7033 - accuracy: 0.5000 - val_loss: 2.1507 - val_accuracy: 0.1429 - 60ms/epoch - 30ms/step\n",
            "Epoch 31/100\n",
            "2/2 - 0s - loss: 1.6907 - accuracy: 0.5000 - val_loss: 2.1514 - val_accuracy: 0.1429 - 65ms/epoch - 33ms/step\n",
            "Epoch 32/100\n",
            "2/2 - 0s - loss: 1.6775 - accuracy: 0.5000 - val_loss: 2.1519 - val_accuracy: 0.1429 - 51ms/epoch - 26ms/step\n",
            "Epoch 33/100\n",
            "2/2 - 0s - loss: 1.6646 - accuracy: 0.5000 - val_loss: 2.1518 - val_accuracy: 0.1429 - 42ms/epoch - 21ms/step\n",
            "Epoch 34/100\n",
            "2/2 - 0s - loss: 1.6517 - accuracy: 0.5500 - val_loss: 2.1512 - val_accuracy: 0.1429 - 46ms/epoch - 23ms/step\n",
            "Epoch 35/100\n",
            "2/2 - 0s - loss: 1.6378 - accuracy: 0.5500 - val_loss: 2.1504 - val_accuracy: 0.1429 - 70ms/epoch - 35ms/step\n",
            "Epoch 36/100\n",
            "2/2 - 0s - loss: 1.6242 - accuracy: 0.5500 - val_loss: 2.1495 - val_accuracy: 0.1429 - 36ms/epoch - 18ms/step\n",
            "Epoch 37/100\n",
            "2/2 - 0s - loss: 1.6113 - accuracy: 0.5500 - val_loss: 2.1488 - val_accuracy: 0.1429 - 103ms/epoch - 52ms/step\n",
            "Epoch 38/100\n",
            "2/2 - 0s - loss: 1.5974 - accuracy: 0.6000 - val_loss: 2.1486 - val_accuracy: 0.1429 - 39ms/epoch - 19ms/step\n",
            "Epoch 39/100\n",
            "2/2 - 0s - loss: 1.5837 - accuracy: 0.6000 - val_loss: 2.1491 - val_accuracy: 0.1429 - 37ms/epoch - 19ms/step\n",
            "Epoch 40/100\n",
            "2/2 - 0s - loss: 1.5698 - accuracy: 0.6500 - val_loss: 2.1498 - val_accuracy: 0.1429 - 42ms/epoch - 21ms/step\n",
            "Epoch 41/100\n",
            "2/2 - 0s - loss: 1.5554 - accuracy: 0.7000 - val_loss: 2.1505 - val_accuracy: 0.1429 - 106ms/epoch - 53ms/step\n",
            "Epoch 42/100\n",
            "2/2 - 0s - loss: 1.5413 - accuracy: 0.7000 - val_loss: 2.1515 - val_accuracy: 0.1429 - 75ms/epoch - 37ms/step\n",
            "Epoch 43/100\n",
            "2/2 - 0s - loss: 1.5268 - accuracy: 0.7000 - val_loss: 2.1523 - val_accuracy: 0.1429 - 74ms/epoch - 37ms/step\n",
            "Epoch 44/100\n",
            "2/2 - 0s - loss: 1.5123 - accuracy: 0.7000 - val_loss: 2.1528 - val_accuracy: 0.1429 - 65ms/epoch - 33ms/step\n",
            "Epoch 45/100\n",
            "2/2 - 0s - loss: 1.4976 - accuracy: 0.7000 - val_loss: 2.1527 - val_accuracy: 0.1429 - 43ms/epoch - 22ms/step\n",
            "Epoch 46/100\n",
            "2/2 - 0s - loss: 1.4828 - accuracy: 0.7500 - val_loss: 2.1519 - val_accuracy: 0.1429 - 60ms/epoch - 30ms/step\n",
            "Epoch 47/100\n",
            "2/2 - 0s - loss: 1.4678 - accuracy: 0.7500 - val_loss: 2.1505 - val_accuracy: 0.1429 - 42ms/epoch - 21ms/step\n",
            "Epoch 48/100\n",
            "2/2 - 0s - loss: 1.4527 - accuracy: 0.7500 - val_loss: 2.1485 - val_accuracy: 0.1429 - 71ms/epoch - 36ms/step\n",
            "Epoch 49/100\n",
            "2/2 - 0s - loss: 1.4376 - accuracy: 0.7500 - val_loss: 2.1461 - val_accuracy: 0.1429 - 70ms/epoch - 35ms/step\n",
            "Epoch 50/100\n",
            "2/2 - 0s - loss: 1.4220 - accuracy: 0.7500 - val_loss: 2.1437 - val_accuracy: 0.2857 - 79ms/epoch - 40ms/step\n",
            "Epoch 51/100\n",
            "2/2 - 0s - loss: 1.4066 - accuracy: 0.7500 - val_loss: 2.1423 - val_accuracy: 0.2857 - 60ms/epoch - 30ms/step\n",
            "Epoch 52/100\n",
            "2/2 - 0s - loss: 1.3906 - accuracy: 0.7500 - val_loss: 2.1413 - val_accuracy: 0.2857 - 41ms/epoch - 21ms/step\n",
            "Epoch 53/100\n",
            "2/2 - 0s - loss: 1.3745 - accuracy: 0.7500 - val_loss: 2.1400 - val_accuracy: 0.2857 - 46ms/epoch - 23ms/step\n",
            "Epoch 54/100\n",
            "2/2 - 0s - loss: 1.3593 - accuracy: 0.8000 - val_loss: 2.1383 - val_accuracy: 0.2857 - 50ms/epoch - 25ms/step\n",
            "Epoch 55/100\n",
            "2/2 - 0s - loss: 1.3431 - accuracy: 0.8500 - val_loss: 2.1367 - val_accuracy: 0.2857 - 74ms/epoch - 37ms/step\n",
            "Epoch 56/100\n",
            "2/2 - 0s - loss: 1.3271 - accuracy: 0.8500 - val_loss: 2.1354 - val_accuracy: 0.2857 - 40ms/epoch - 20ms/step\n",
            "Epoch 57/100\n",
            "2/2 - 0s - loss: 1.3111 - accuracy: 0.8500 - val_loss: 2.1351 - val_accuracy: 0.2857 - 29ms/epoch - 15ms/step\n",
            "Epoch 58/100\n",
            "2/2 - 0s - loss: 1.2950 - accuracy: 0.8500 - val_loss: 2.1351 - val_accuracy: 0.2857 - 55ms/epoch - 28ms/step\n",
            "Epoch 59/100\n",
            "2/2 - 0s - loss: 1.2790 - accuracy: 0.8500 - val_loss: 2.1346 - val_accuracy: 0.2857 - 41ms/epoch - 21ms/step\n",
            "Epoch 60/100\n",
            "2/2 - 0s - loss: 1.2624 - accuracy: 0.9000 - val_loss: 2.1340 - val_accuracy: 0.2857 - 45ms/epoch - 22ms/step\n",
            "Epoch 61/100\n",
            "2/2 - 0s - loss: 1.2468 - accuracy: 0.9000 - val_loss: 2.1333 - val_accuracy: 0.2857 - 64ms/epoch - 32ms/step\n",
            "Epoch 62/100\n",
            "2/2 - 0s - loss: 1.2308 - accuracy: 0.9000 - val_loss: 2.1332 - val_accuracy: 0.2857 - 33ms/epoch - 16ms/step\n",
            "Epoch 63/100\n",
            "2/2 - 0s - loss: 1.2144 - accuracy: 0.9000 - val_loss: 2.1334 - val_accuracy: 0.2857 - 95ms/epoch - 47ms/step\n",
            "Epoch 64/100\n",
            "2/2 - 0s - loss: 1.1988 - accuracy: 0.9000 - val_loss: 2.1331 - val_accuracy: 0.2857 - 59ms/epoch - 29ms/step\n",
            "Epoch 65/100\n",
            "2/2 - 0s - loss: 1.1831 - accuracy: 0.9000 - val_loss: 2.1326 - val_accuracy: 0.2857 - 42ms/epoch - 21ms/step\n",
            "Epoch 66/100\n",
            "2/2 - 0s - loss: 1.1675 - accuracy: 0.9000 - val_loss: 2.1319 - val_accuracy: 0.2857 - 54ms/epoch - 27ms/step\n",
            "Epoch 67/100\n",
            "2/2 - 0s - loss: 1.1522 - accuracy: 0.9000 - val_loss: 2.1316 - val_accuracy: 0.2857 - 47ms/epoch - 24ms/step\n",
            "Epoch 68/100\n",
            "2/2 - 0s - loss: 1.1365 - accuracy: 0.9000 - val_loss: 2.1319 - val_accuracy: 0.2857 - 133ms/epoch - 66ms/step\n",
            "Epoch 69/100\n",
            "2/2 - 0s - loss: 1.1210 - accuracy: 0.9000 - val_loss: 2.1326 - val_accuracy: 0.2857 - 76ms/epoch - 38ms/step\n",
            "Epoch 70/100\n",
            "2/2 - 0s - loss: 1.1053 - accuracy: 0.9000 - val_loss: 2.1336 - val_accuracy: 0.2857 - 47ms/epoch - 23ms/step\n",
            "Epoch 71/100\n",
            "2/2 - 0s - loss: 1.0900 - accuracy: 0.9000 - val_loss: 2.1351 - val_accuracy: 0.2857 - 59ms/epoch - 29ms/step\n",
            "Epoch 72/100\n",
            "2/2 - 0s - loss: 1.0746 - accuracy: 0.9000 - val_loss: 2.1368 - val_accuracy: 0.2857 - 33ms/epoch - 17ms/step\n",
            "Epoch 73/100\n",
            "2/2 - 0s - loss: 1.0599 - accuracy: 0.9500 - val_loss: 2.1384 - val_accuracy: 0.2857 - 42ms/epoch - 21ms/step\n",
            "Epoch 74/100\n",
            "2/2 - 0s - loss: 1.0445 - accuracy: 0.9500 - val_loss: 2.1393 - val_accuracy: 0.2857 - 42ms/epoch - 21ms/step\n",
            "Epoch 75/100\n",
            "2/2 - 0s - loss: 1.0291 - accuracy: 0.9500 - val_loss: 2.1397 - val_accuracy: 0.2857 - 50ms/epoch - 25ms/step\n",
            "Epoch 76/100\n",
            "2/2 - 0s - loss: 1.0139 - accuracy: 0.9500 - val_loss: 2.1407 - val_accuracy: 0.2857 - 58ms/epoch - 29ms/step\n",
            "Epoch 77/100\n",
            "2/2 - 0s - loss: 0.9986 - accuracy: 0.9500 - val_loss: 2.1420 - val_accuracy: 0.2857 - 34ms/epoch - 17ms/step\n",
            "Epoch 78/100\n",
            "2/2 - 0s - loss: 0.9836 - accuracy: 0.9500 - val_loss: 2.1432 - val_accuracy: 0.2857 - 118ms/epoch - 59ms/step\n",
            "Epoch 79/100\n",
            "2/2 - 0s - loss: 0.9694 - accuracy: 0.9500 - val_loss: 2.1446 - val_accuracy: 0.2857 - 64ms/epoch - 32ms/step\n",
            "Epoch 80/100\n",
            "2/2 - 0s - loss: 0.9544 - accuracy: 0.9500 - val_loss: 2.1458 - val_accuracy: 0.2857 - 39ms/epoch - 20ms/step\n",
            "Epoch 81/100\n",
            "2/2 - 0s - loss: 0.9395 - accuracy: 0.9500 - val_loss: 2.1469 - val_accuracy: 0.2857 - 48ms/epoch - 24ms/step\n",
            "Epoch 82/100\n",
            "2/2 - 0s - loss: 0.9253 - accuracy: 0.9500 - val_loss: 2.1482 - val_accuracy: 0.2857 - 34ms/epoch - 17ms/step\n",
            "Epoch 83/100\n",
            "2/2 - 0s - loss: 0.9114 - accuracy: 0.9500 - val_loss: 2.1498 - val_accuracy: 0.2857 - 63ms/epoch - 31ms/step\n",
            "Epoch 84/100\n",
            "2/2 - 0s - loss: 0.8974 - accuracy: 0.9500 - val_loss: 2.1512 - val_accuracy: 0.2857 - 63ms/epoch - 32ms/step\n",
            "Epoch 85/100\n",
            "2/2 - 0s - loss: 0.8835 - accuracy: 0.9500 - val_loss: 2.1521 - val_accuracy: 0.2857 - 51ms/epoch - 26ms/step\n",
            "Epoch 86/100\n",
            "2/2 - 0s - loss: 0.8700 - accuracy: 0.9500 - val_loss: 2.1527 - val_accuracy: 0.2857 - 65ms/epoch - 32ms/step\n",
            "Epoch 87/100\n",
            "2/2 - 0s - loss: 0.8565 - accuracy: 0.9500 - val_loss: 2.1537 - val_accuracy: 0.2857 - 42ms/epoch - 21ms/step\n",
            "Epoch 88/100\n",
            "2/2 - 0s - loss: 0.8429 - accuracy: 0.9500 - val_loss: 2.1552 - val_accuracy: 0.2857 - 38ms/epoch - 19ms/step\n",
            "Epoch 89/100\n",
            "2/2 - 0s - loss: 0.8298 - accuracy: 0.9500 - val_loss: 2.1570 - val_accuracy: 0.2857 - 73ms/epoch - 36ms/step\n",
            "Epoch 90/100\n",
            "2/2 - 0s - loss: 0.8169 - accuracy: 0.9500 - val_loss: 2.1595 - val_accuracy: 0.2857 - 84ms/epoch - 42ms/step\n",
            "Epoch 91/100\n",
            "2/2 - 0s - loss: 0.8040 - accuracy: 0.9500 - val_loss: 2.1625 - val_accuracy: 0.2857 - 34ms/epoch - 17ms/step\n",
            "Epoch 92/100\n",
            "2/2 - 0s - loss: 0.7912 - accuracy: 0.9500 - val_loss: 2.1652 - val_accuracy: 0.2857 - 31ms/epoch - 16ms/step\n",
            "Epoch 93/100\n",
            "2/2 - 0s - loss: 0.7792 - accuracy: 0.9500 - val_loss: 2.1677 - val_accuracy: 0.2857 - 60ms/epoch - 30ms/step\n",
            "Epoch 94/100\n",
            "2/2 - 0s - loss: 0.7666 - accuracy: 0.9500 - val_loss: 2.1694 - val_accuracy: 0.2857 - 48ms/epoch - 24ms/step\n",
            "Epoch 95/100\n",
            "2/2 - 0s - loss: 0.7544 - accuracy: 0.9500 - val_loss: 2.1711 - val_accuracy: 0.2857 - 36ms/epoch - 18ms/step\n",
            "Epoch 96/100\n",
            "2/2 - 0s - loss: 0.7426 - accuracy: 0.9500 - val_loss: 2.1728 - val_accuracy: 0.2857 - 39ms/epoch - 19ms/step\n",
            "Epoch 97/100\n",
            "2/2 - 0s - loss: 0.7313 - accuracy: 0.9500 - val_loss: 2.1747 - val_accuracy: 0.2857 - 37ms/epoch - 18ms/step\n",
            "Epoch 98/100\n",
            "2/2 - 0s - loss: 0.7195 - accuracy: 0.9500 - val_loss: 2.1766 - val_accuracy: 0.2857 - 47ms/epoch - 23ms/step\n",
            "Epoch 99/100\n",
            "2/2 - 0s - loss: 0.7079 - accuracy: 0.9500 - val_loss: 2.1782 - val_accuracy: 0.2857 - 37ms/epoch - 18ms/step\n",
            "Epoch 100/100\n",
            "2/2 - 0s - loss: 0.6964 - accuracy: 1.0000 - val_loss: 2.1799 - val_accuracy: 0.2857 - 57ms/epoch - 28ms/step\n"
          ]
        }
      ]
    },
    {
      "cell_type": "markdown",
      "source": [
        "#Accuracy"
      ],
      "metadata": {
        "id": "2ODSuEoiXYjY"
      }
    },
    {
      "cell_type": "code",
      "source": [
        "import matplotlib.pyplot as plt\n",
        "\n",
        "\n",
        "acc = model.history.history['accuracy']\n",
        "val_acc = model.history.history['val_accuracy']\n",
        "loss = model.history.history['loss']\n",
        "val_loss = model.history.history['val_loss']\n",
        " \n",
        "epochs = range(len(acc))\n",
        " \n",
        "plt.plot(epochs, acc, 'b', label='Training acc')\n",
        "plt.plot(epochs, val_acc, 'r', label='Validation acc')\n",
        "plt.title('Training and validation accuracy')\n",
        "plt.legend()\n",
        "\n",
        "plt.figure()"
      ],
      "metadata": {
        "colab": {
          "base_uri": "https://localhost:8080/",
          "height": 318
        },
        "id": "CPxVXtKsXEy5",
        "outputId": "56f70c4e-f18b-4a7f-8271-dfc45e72540f"
      },
      "execution_count": null,
      "outputs": [
        {
          "output_type": "execute_result",
          "data": {
            "text/plain": [
              "<Figure size 432x288 with 0 Axes>"
            ]
          },
          "metadata": {},
          "execution_count": 12
        },
        {
          "output_type": "display_data",
          "data": {
            "text/plain": [
              "<Figure size 432x288 with 1 Axes>"
            ],
            "image/png": "[encoded data removed]"
          },
          "metadata": {
            "needs_background": "light"
          }
        },
        {
          "output_type": "display_data",
          "data": {
            "text/plain": [
              "<Figure size 432x288 with 0 Axes>"
            ]
          },
          "metadata": {}
        }
      ]
    },
    {
      "cell_type": "code",
      "source": [
        "plt.plot(epochs, loss, 'b', label='Training loss')\n",
        "plt.plot(epochs, val_loss, 'r', label='Validation loss')\n",
        "plt.title('Training and validation loss')\n",
        "plt.legend()\n",
        " \n",
        "plt.show()"
      ],
      "metadata": {
        "colab": {
          "base_uri": "https://localhost:8080/",
          "height": 281
        },
        "id": "3lEK4FGwab9i",
        "outputId": "f1b3110b-aac2-46ef-87c1-3d8f2f368755"
      },
      "execution_count": null,
      "outputs": [
        {
          "output_type": "display_data",
          "data": {
            "text/plain": [
              "<Figure size 432x288 with 1 Axes>"
            ],
            "image/png": "[encoded data removed]"
          },
          "metadata": {
            "needs_background": "light"
          }
        }
      ]
    },
    {
      "cell_type": "markdown",
      "source": [
        "#Prediction making"
      ],
      "metadata": {
        "id": "pxKTlbE6aqAH"
      }
    },
    {
      "cell_type": "code",
      "source": [
        "import pickle\n",
        "pickle.dump( {'words':words, 'classes':classes}, open( \"training_data\", \"wb\" ) )"
      ],
      "metadata": {
        "id": "3CoERegOauRc"
      },
      "execution_count": null,
      "outputs": []
    },
    {
      "cell_type": "code",
      "source": [
        "from keras.models import load_model\n",
        "model = load_model(\"model.pkl\")"
      ],
      "metadata": {
        "id": "CHHTw8t4a_LI"
      },
      "execution_count": null,
      "outputs": []
    },
    {
      "cell_type": "code",
      "source": [
        "# restoring all the data structures\n",
        "data = pickle.load( open( \"training_data\", \"rb\" ) )\n",
        "words = data['words']\n",
        "classes = data['classes']"
      ],
      "metadata": {
        "id": "2z7bVc4Da_yu"
      },
      "execution_count": null,
      "outputs": []
    },
    {
      "cell_type": "code",
      "source": [
        "with open('intents.json') as json_data:\n",
        "    intents = json.load(json_data)"
      ],
      "metadata": {
        "id": "WcznEj2fbHg2"
      },
      "execution_count": null,
      "outputs": []
    },
    {
      "cell_type": "code",
      "source": [
        "def clean_up_sentence(sentence):\n",
        "    # tokenizing the pattern\n",
        "    sentence_words = nltk.word_tokenize(sentence)\n",
        "    # stemming each word\n",
        "    sentence_words = [stemmer.stem(word.lower()) for word in sentence_words]\n",
        "    return sentence_words\n",
        "\n",
        "# returning bag of words array: 0 or 1 for each word in the bag that exists in the sentence\n",
        "def bow(sentence, words):\n",
        "    # tokenizing the pattern\n",
        "    sentence_words = clean_up_sentence(sentence)\n",
        "    # generating bag of words\n",
        "    bag = [0]*len(words)  \n",
        "    for s in sentence_words:\n",
        "        for i,w in enumerate(words):\n",
        "            if w == s: \n",
        "                bag[i] = 1\n",
        "    bag=np.array(bag)\n",
        "    return(bag)"
      ],
      "metadata": {
        "id": "HzCvR0aLbNJW"
      },
      "execution_count": null,
      "outputs": []
    },
    {
      "cell_type": "code",
      "source": [
        "ERROR_THRESHOLD = 0.30\n",
        "def classify(sentence):\n",
        "    # generate probabilities from the model\n",
        "    bag = bow(sentence, words)\n",
        "    results = model.predict(np.array([bag]))\n",
        "    # filter out predictions below a threshold\n",
        "    results = [[i,r] for i,r in enumerate(results[0]) if r>ERROR_THRESHOLD]\n",
        "    # sort by strength of probability\n",
        "    results.sort(key=lambda x: x[1], reverse=True)\n",
        "    return_list = []\n",
        "    for r in results:\n",
        "        return_list.append((classes[r[0]], r[1]))\n",
        "    # return tuple of intent and probability\n",
        "    return return_list\n",
        "\n",
        "def response(sentence):\n",
        "    results = classify(sentence)\n",
        "    # if we have a classification then find the matching intent tag\n",
        "    if results:\n",
        "        # loop as long as there are matches to process\n",
        "        while results:\n",
        "            for i in intents['intents']:\n",
        "                # find a tag matching the first result\n",
        "                if i['tag'] == results[0][0]:\n",
        "                    # a random response from the intent\n",
        "                    return print(random.choice(i['responses']))\n",
        "\n",
        "            results.pop(0)"
      ],
      "metadata": {
        "id": "WiWv3wQEbRBj"
      },
      "execution_count": null,
      "outputs": []
    },
    {
      "cell_type": "code",
      "source": [
        "response(\"What is this chatbot name?\")"
      ],
      "metadata": {
        "colab": {
          "base_uri": "https://localhost:8080/"
        },
        "id": "lhOQzgQdcDm4",
        "outputId": "0f4f9c32-6ebe-41c7-9bc8-9d301b8752a3"
      },
      "execution_count": null,
      "outputs": [
        {
          "output_type": "stream",
          "name": "stdout",
          "text": [
            "I am Chintu.\n"
          ]
        }
      ]
    },
    {
      "cell_type": "code",
      "source": [
        "response(\"Which is your favourite movie?\")"
      ],
      "metadata": {
        "colab": {
          "base_uri": "https://localhost:8080/"
        },
        "id": "CKGE9ZbEbcsQ",
        "outputId": "3f710a1e-7d45-4e50-b5e3-329797c541a4"
      },
      "execution_count": null,
      "outputs": [
        {
          "output_type": "stream",
          "name": "stdout",
          "text": [
            "Zindagi na Milegi Doobara\n"
          ]
        }
      ]
    },
    {
      "cell_type": "code",
      "source": [
        "response(\"Give me your social media accounts link\")"
      ],
      "metadata": {
        "colab": {
          "base_uri": "https://localhost:8080/"
        },
        "id": "i-H9HLrabryH",
        "outputId": "ae29f888-faae-442a-809f-b48c2c0ca7d5"
      },
      "execution_count": null,
      "outputs": [
        {
          "output_type": "stream",
          "name": "stdout",
          "text": [
            "You can connect me on Linkedin or Github \n",
            " Linkedin - https://www.linkedin.com/in/kazi-tanvir/ \n",
            " Github - https://github.com/KaziTanvir\n"
          ]
        }
      ]
    },
    {
      "cell_type": "code",
      "source": [
        "response(\"where are you from?\")"
      ],
      "metadata": {
        "colab": {
          "base_uri": "https://localhost:8080/"
        },
        "id": "UrnzbJtPb2bT",
        "outputId": "9d64d90b-887d-4972-e32a-d5886aeb0e8b"
      },
      "execution_count": null,
      "outputs": [
        {
          "output_type": "stream",
          "name": "stdout",
          "text": [
            "We are from Bangladesh.\n"
          ]
        }
      ]
    },
    {
      "cell_type": "code",
      "source": [
        "from google.colab import drive\n",
        "drive.mount('/content/drive')"
      ],
      "metadata": {
        "colab": {
          "base_uri": "https://localhost:8080/"
        },
        "id": "zUa0Py1sa1wY",
        "outputId": "debc22e9-fb25-4e9d-f388-d2096dea8e99"
      },
      "execution_count": null,
      "outputs": [
        {
          "output_type": "stream",
          "name": "stdout",
          "text": [
            "Drive already mounted at /content/drive; to attempt to forcibly remount, call drive.mount(\"/content/drive\", force_remount=True).\n"
          ]
        }
      ]
    }
  ]
}